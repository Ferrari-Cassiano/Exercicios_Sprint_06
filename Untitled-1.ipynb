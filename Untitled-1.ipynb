{
 "cells": [
  {
   "cell_type": "code",
   "execution_count": 8,
   "id": "2ac87380",
   "metadata": {},
   "outputs": [
    {
     "name": "stdout",
     "output_type": "stream",
     "text": [
      "761.0999999999999\n"
     ]
    }
   ],
   "source": [
    "df = {\n",
    "    'American Express': 93.23,\n",
    "    'Boeing': 178.44,\n",
    "    'Coca-Cola': 45.15,\n",
    "    'Walt Disney': 119.34,\n",
    "    'Nike': 97.99,\n",
    "    'JPMorgan':96.27,\n",
    "    'Walmart': 130.68 \n",
    "}\n",
    "\n",
    "total_value = 0\n",
    "\n",
    "for key, value in df.items():\n",
    "    total_value += value\n",
    "print(total_value)\n",
    "#print(total_value)"
   ]
  },
  {
   "cell_type": "code",
   "execution_count": 20,
   "id": "24650f70",
   "metadata": {},
   "outputs": [
    {
     "name": "stdout",
     "output_type": "stream",
     "text": [
      "Rota 72 partidas as 8:00\n",
      "Rota 72 partidas as 12:00\n",
      "Rota 72 partidas as 17:30\n",
      "Rota 26 partidas as 9:30\n",
      "Rota 26 partidas as 15:00\n",
      "Rota 17 partidas as 7:30\n",
      "Rota 17 partidas as 12:30\n",
      "Rota 17 partidas as 15:30\n",
      "primeiro horario da rora 72 é as 8:00\n",
      "primeiro horario da rora 26 é as 9:30\n",
      "primeiro horario da rora 17 é as 7:30\n"
     ]
    }
   ],
   "source": [
    "bus = {\n",
    "    '72': ['8:00', '12:00', '17:30'],\n",
    "    '26': ['9:30', '15:00'],\n",
    "    '17': ['7:30', '12:30', '15:30']\n",
    "}\n",
    "\n",
    "# itere sobre as chaves e os valores do dicionário\n",
    "for rota, horarios in bus.items():\n",
    "    for hora in horarios:\n",
    "        print(f'Rota {rota} partidas as {hora}')\n",
    "\n",
    "for rota, horarios in bus.items():\n",
    "    prim_horario = horarios[0]\n",
    "    print(f'primeiro horario da rora {rota} é as {prim_horario}')"
   ]
  },
  {
   "cell_type": "code",
   "execution_count": 18,
   "id": "02ebccd5",
   "metadata": {},
   "outputs": [
    {
     "name": "stdout",
     "output_type": "stream",
     "text": [
      "O horário da primeira partida do ônibus #72 é 8:00\n",
      "O horário da primeira partida do ônibus #26 é 9:30\n",
      "O horário da primeira partida do ônibus #17 é 7:30\n"
     ]
    }
   ],
   "source": [
    "bus_schedule = {\n",
    "    '72': ['8:00', '12:00', '17:30'],\n",
    "    '26': ['9:30', '15:00'],\n",
    "    '17': ['7:30', '12:30', '15:30']\n",
    "}\n",
    "\n",
    "for route, times in bus_schedule.items():\n",
    "    earliest_time = times[0]\n",
    "    print(f'O horário da primeira partida do ônibus #{route} é {earliest_time}')"
   ]
  },
  {
   "cell_type": "code",
   "execution_count": 24,
   "id": "f21402d3",
   "metadata": {},
   "outputs": [
    {
     "name": "stdout",
     "output_type": "stream",
     "text": [
      "2008\n"
     ]
    }
   ],
   "source": [
    "movies = [\n",
    "    ['The Shawshank Redemption', 'USA', 'drama', 1994, 142, 9.111],\n",
    "    ['The Godfather', 'USA', 'drama, crime', 1972, 175, 8.730],\n",
    "    ['The Dark Knight', 'USA', 'fantasy, action, thriller', 2008, 152, 8.499]\n",
    "]\n",
    "\n",
    "print(movies[2][3])"
   ]
  },
  {
   "cell_type": "code",
   "execution_count": 27,
   "id": "042772e7",
   "metadata": {},
   "outputs": [
    {
     "name": "stdout",
     "output_type": "stream",
     "text": [
      "The Shawshank Redemption\n"
     ]
    }
   ],
   "source": [
    "movies_table = [\n",
    "    {'movie_name':'The Shawshank Redemption', 'country':'USA', 'genre':'drama', 'year':1994, 'duration':142, 'rating':9.111},\n",
    "    {'movie_name':'The Godfather', 'country':'USA', 'genre':'drama, crime', 'year':1972, 'duration':175, 'rating':8.730},\n",
    "    {'movie_name':'The Dark Knight', 'country':'USA', 'genre':'fantasy, action, thriller', 'year':2008, 'duration':152, 'rating':8.499}\n",
    "]\n",
    "\n",
    "# agora acesse a coluna pelo nome:\n",
    "print(movies_table[0]['movie_name'])"
   ]
  }
 ],
 "metadata": {
  "kernelspec": {
   "display_name": "vehicles_env",
   "language": "python",
   "name": "python3"
  },
  "language_info": {
   "codemirror_mode": {
    "name": "ipython",
    "version": 3
   },
   "file_extension": ".py",
   "mimetype": "text/x-python",
   "name": "python",
   "nbconvert_exporter": "python",
   "pygments_lexer": "ipython3",
   "version": "3.9.23"
  }
 },
 "nbformat": 4,
 "nbformat_minor": 5
}
