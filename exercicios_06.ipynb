{
 "cells": [
  {
   "cell_type": "code",
   "execution_count": 1,
   "id": "2ac87380",
   "metadata": {},
   "outputs": [
    {
     "name": "stdout",
     "output_type": "stream",
     "text": [
      "761.0999999999999\n"
     ]
    }
   ],
   "source": [
    "df = {\n",
    "    'American Express': 93.23,\n",
    "    'Boeing': 178.44,\n",
    "    'Coca-Cola': 45.15,\n",
    "    'Walt Disney': 119.34,\n",
    "    'Nike': 97.99,\n",
    "    'JPMorgan':96.27,\n",
    "    'Walmart': 130.68 \n",
    "}\n",
    "\n",
    "total_value = 0\n",
    "\n",
    "for key, value in df.items():\n",
    "    total_value += value\n",
    "print(total_value)\n",
    "#print(total_value)"
   ]
  },
  {
   "cell_type": "code",
   "execution_count": 2,
   "id": "24650f70",
   "metadata": {},
   "outputs": [
    {
     "name": "stdout",
     "output_type": "stream",
     "text": [
      "Rota 72 partidas as 8:00\n",
      "Rota 72 partidas as 12:00\n",
      "Rota 72 partidas as 17:30\n",
      "Rota 26 partidas as 9:30\n",
      "Rota 26 partidas as 15:00\n",
      "Rota 17 partidas as 7:30\n",
      "Rota 17 partidas as 12:30\n",
      "Rota 17 partidas as 15:30\n",
      "primeiro horario da rora 72 é as 8:00\n",
      "primeiro horario da rora 26 é as 9:30\n",
      "primeiro horario da rora 17 é as 7:30\n"
     ]
    }
   ],
   "source": [
    "bus = {\n",
    "    '72': ['8:00', '12:00', '17:30'],\n",
    "    '26': ['9:30', '15:00'],\n",
    "    '17': ['7:30', '12:30', '15:30']\n",
    "}\n",
    "\n",
    "# itere sobre as chaves e os valores do dicionário\n",
    "for rota, horarios in bus.items():\n",
    "    for hora in horarios:\n",
    "        print(f'Rota {rota} partidas as {hora}')\n",
    "\n",
    "for rota, horarios in bus.items():\n",
    "    prim_horario = horarios[0]\n",
    "    print(f'primeiro horario da rora {rota} é as {prim_horario}')"
   ]
  },
  {
   "cell_type": "code",
   "execution_count": 3,
   "id": "02ebccd5",
   "metadata": {},
   "outputs": [
    {
     "name": "stdout",
     "output_type": "stream",
     "text": [
      "O horário da primeira partida do ônibus #72 é 8:00\n",
      "O horário da primeira partida do ônibus #26 é 9:30\n",
      "O horário da primeira partida do ônibus #17 é 7:30\n"
     ]
    }
   ],
   "source": [
    "bus_schedule = {\n",
    "    '72': ['8:00', '12:00', '17:30'],\n",
    "    '26': ['9:30', '15:00'],\n",
    "    '17': ['7:30', '12:30', '15:30']\n",
    "}\n",
    "\n",
    "for route, times in bus_schedule.items():\n",
    "    earliest_time = times[0]\n",
    "    print(f'O horário da primeira partida do ônibus #{route} é {earliest_time}')"
   ]
  },
  {
   "cell_type": "code",
   "execution_count": 4,
   "id": "f21402d3",
   "metadata": {},
   "outputs": [
    {
     "name": "stdout",
     "output_type": "stream",
     "text": [
      "2008\n"
     ]
    }
   ],
   "source": [
    "movies = [\n",
    "    ['The Shawshank Redemption', 'USA', 'drama', 1994, 142, 9.111],\n",
    "    ['The Godfather', 'USA', 'drama, crime', 1972, 175, 8.730],\n",
    "    ['The Dark Knight', 'USA', 'fantasy, action, thriller', 2008, 152, 8.499]\n",
    "]\n",
    "\n",
    "print(movies[2][3])"
   ]
  },
  {
   "cell_type": "code",
   "execution_count": 5,
   "id": "042772e7",
   "metadata": {},
   "outputs": [
    {
     "name": "stdout",
     "output_type": "stream",
     "text": [
      "The Shawshank Redemption\n"
     ]
    }
   ],
   "source": [
    "movies_table = [\n",
    "    {'movie_name':'The Shawshank Redemption', 'country':'USA', 'genre':'drama', 'year':1994, 'duration':142, 'rating':9.111},\n",
    "    {'movie_name':'The Godfather', 'country':'USA', 'genre':'drama, crime', 'year':1972, 'duration':175, 'rating':8.730},\n",
    "    {'movie_name':'The Dark Knight', 'country':'USA', 'genre':'fantasy, action, thriller', 'year':2008, 'duration':152, 'rating':8.499}\n",
    "]\n",
    "\n",
    "# agora acesse a coluna pelo nome:\n",
    "print(movies_table[0]['movie_name'])"
   ]
  },
  {
   "cell_type": "code",
   "execution_count": 6,
   "id": "ec9705c7",
   "metadata": {},
   "outputs": [
    {
     "name": "stdout",
     "output_type": "stream",
     "text": [
      "36\n"
     ]
    }
   ],
   "source": [
    "order = [\n",
    "    {\n",
    "        'item': 'Margherita pizza',\n",
    "        'category': 'pizza',\n",
    "        'quantity': 2,\n",
    "        'price': 9\n",
    "    },\n",
    "    {\n",
    "        'item': 'Ham pizza',\n",
    "        'category': 'pizza',\n",
    "        'quantity': 1,\n",
    "        'price': 12\n",
    "    },\n",
    "    {\n",
    "        'item': 'Pepsi 1 l',\n",
    "        'category': 'beverages',\n",
    "        'quantity': 3,\n",
    "        'price': 2\n",
    "    }\n",
    "]\n",
    "\n",
    "# variável para o preço total do pedido\n",
    "total_price = 0 \n",
    "\n",
    "# itera sobre cada dicionário da lista\n",
    "for item in order: \n",
    "# na variável, soma o preço do item multiplicado pela quantidade\n",
    "    total_price += item['price'] * item['quantity']\n",
    "\n",
    "print(total_price)"
   ]
  },
  {
   "cell_type": "code",
   "execution_count": 7,
   "id": "4262527e",
   "metadata": {},
   "outputs": [
    {
     "name": "stdout",
     "output_type": "stream",
     "text": [
      "[\"Schindler's List\", 'USA', 1993, 'drama', 195, 8.818]\n",
      "['The Lord of the Rings: The Return of the King', 'New Zealand', 2003, 'fantasy, adventure, drama', 201, 8.625]\n"
     ]
    }
   ],
   "source": [
    "movies_info = [\n",
    "    ['The Shawshank Redemption', 'USA', 1994, 'drama', 142, 9.111],\n",
    "    ['The Godfather', 'USA', 1972, 'drama, crime', 175, 8.730],\n",
    "    ['The Dark Knight', 'USA', 2008, 'fantasy, action, thriller', 152, 8.499],\n",
    "    [\"Schindler's List\", 'USA', 1993, 'drama', 195, 8.818],\n",
    "    ['The Lord of the Rings: The Return of the King', 'New Zealand', 2003, 'fantasy, adventure, drama', 201, 8.625],\n",
    "    ['Pulp Fiction', 'USA', 1994, 'thriller, comedy, crime', 154, 8.619],\n",
    "    ['The Good, the Bad and the Ugly', 'Italy', 1966, 'western', 178, 8.521],\n",
    "    ['Fight Club', 'USA', 1999, 'thriller, drama, crime', 139, 8.644],\n",
    "    ['Harakiri', 'Japan', 1962, 'drama, action, history', 133, 8.106],\n",
    "    ['Good Will Hunting', 'USA', 1997, 'drama, romance', 126, 8.077]\n",
    "]\n",
    "\n",
    "movies_filtered = [] # lista vazia para armazenar o resultado\n",
    "\n",
    "for movie in movies_info: # iterando sobre as linhas da tabela original\n",
    "    if movie[4] > 180: # se um filme dura mais do que 180 min\n",
    "        movies_filtered.append(movie) # adiciona a linha à lista movie_filtered\n",
    "\n",
    "for movie in movies_filtered: # imprimindo o conteúdo da lista movies_filtered\n",
    "    print(movie)"
   ]
  },
  {
   "cell_type": "code",
   "execution_count": 8,
   "id": "3fd723d3",
   "metadata": {},
   "outputs": [
    {
     "name": "stdout",
     "output_type": "stream",
     "text": [
      "[{'item': 'Margherita pizza', 'category': 'pizza', 'quantity': 2, 'price': 9}, {'item': 'Ham pizza', 'category': 'pizza', 'quantity': 1, 'price': 12}]\n"
     ]
    }
   ],
   "source": [
    "order = [\n",
    "    {\n",
    "        'item': 'Margherita pizza',\n",
    "        'category': 'pizza',\n",
    "        'quantity': 2,\n",
    "        'price': 9\n",
    "    },\n",
    "    {\n",
    "        'item': 'Ham pizza',\n",
    "        'category': 'pizza',\n",
    "        'quantity': 1,\n",
    "        'price': 12\n",
    "    },\n",
    "    {\n",
    "        'item': 'Pepsi 1 l',\n",
    "        'category': 'beverages',\n",
    "        'quantity': 3,\n",
    "        'price': 2\n",
    "    }\n",
    "]\n",
    "\n",
    "# variável para armazenar o resultado\n",
    "filtered_order = [] \n",
    "\n",
    "for item in order: # itera sobre cada dicionário da lista\n",
    "\tif item['category'] == 'pizza': # se a categoria for pizza...\n",
    "\t\tfiltered_order.append(item) # adiciona o dicionário à lista filtered_order\n",
    "\n",
    "# imprime a lista de dicionários filtrada\n",
    "print(filtered_order) "
   ]
  },
  {
   "cell_type": "code",
   "execution_count": null,
   "id": "866d03b3",
   "metadata": {},
   "outputs": [],
   "source": []
  },
  {
   "cell_type": "markdown",
   "id": "f2873bd5",
   "metadata": {},
   "source": [
    "Vamos voltar para o exemplo do dicionário order. Encontre o preço total para todas as pizzas em order e o imprima. Use a mesma abordagem que usamos nos exemplos desta lição"
   ]
  },
  {
   "cell_type": "code",
   "execution_count": 9,
   "id": "a0ada901",
   "metadata": {},
   "outputs": [
    {
     "name": "stdout",
     "output_type": "stream",
     "text": [
      "30\n"
     ]
    }
   ],
   "source": [
    "order = [\n",
    "    {\n",
    "        'item': 'Margherita pizza',\n",
    "        'category': 'pizza',\n",
    "        'quantity': 2,\n",
    "        'comment': 'Add extra cheese please!',\n",
    "        'price': 9 # preço por item\n",
    "    },\n",
    "    {\n",
    "        'item': 'Ham pizza',\n",
    "        'category': 'pizza',\n",
    "        'quantity': 1,\n",
    "        'comment': '',\n",
    "        'price': 12\n",
    "    },\n",
    "    {\n",
    "        'item': 'Pepsi 1 l',\n",
    "        'category': 'beverages',\n",
    "        'quantity': 3,\n",
    "        'comment': '',\n",
    "        'price': 2\n",
    "    },\n",
    "    {\n",
    "        'item': 'Apple juice 0.5 l',\n",
    "        'category': 'beverages',\n",
    "        'quantity': 1,\n",
    "        'comment': '',\n",
    "        'price': 1\n",
    "    },\n",
    "    {\n",
    "        'item': 'Croissant with cheese',\n",
    "        'category': 'baked foods',\n",
    "        'quantity': 2,\n",
    "        'comment': '',\n",
    "        'price': 1\n",
    "    }\n",
    "]\n",
    "\n",
    "total_pizza_price = 0\n",
    "\n",
    "for item in order:\n",
    "    if item['category'] == 'pizza':\n",
    "        total_pizza_price += item['price'] * item['quantity']\n",
    "\n",
    "print(total_pizza_price)"
   ]
  },
  {
   "cell_type": "markdown",
   "id": "0bd02d9d",
   "metadata": {},
   "source": [
    "** 6.3.05 Funções: parâmetros e valores padrão"
   ]
  },
  {
   "cell_type": "code",
   "execution_count": 4,
   "id": "24b406f6",
   "metadata": {},
   "outputs": [
    {
     "name": "stdout",
     "output_type": "stream",
     "text": [
      "A omelete está pronta! Ovos usados: 2\n"
     ]
    }
   ],
   "source": [
    "# adiciona um valor padrão ao parâmetro eggs_number\n",
    "def omelet(eggs_number=2):\n",
    "    result = 'A omelete está pronta! Ovos usados: ' + str (eggs_number)\n",
    "    return result\n",
    "\n",
    "print(omelet())"
   ]
  },
  {
   "cell_type": "markdown",
   "id": "8030ac24",
   "metadata": {},
   "source": [
    "Importante!\n",
    "Ao definir uma função, parâmetros opcionais devem ser colocados após os obrigatórios, ou seja, aqueles que não têm valores padrão atribuídos a eles. Caso contrário, você vai obter um erro quando chamar a função."
   ]
  },
  {
   "cell_type": "code",
   "execution_count": 5,
   "id": "c5532922",
   "metadata": {},
   "outputs": [
    {
     "name": "stdout",
     "output_type": "stream",
     "text": [
      "A omelete está pronta! Ovos usados: 2, sem queijo\n"
     ]
    }
   ],
   "source": [
    "# adiciona um valor padrão ao parâmetro eggs_number\n",
    "def omelet(cheese, eggs_number=2):\n",
    "    result = 'A omelete está pronta! Ovos usados: ' + str(eggs_number)\n",
    "    if cheese == True:\n",
    "        result = result + ', com queijo'\n",
    "    else:\n",
    "        result = result + ', sem queijo'\n",
    "    return result\n",
    "\n",
    "print(omelet(False))"
   ]
  },
  {
   "cell_type": "code",
   "execution_count": 6,
   "id": "8f834612",
   "metadata": {},
   "outputs": [
    {
     "name": "stdout",
     "output_type": "stream",
     "text": [
      "['The Shawshank Redemption', 'USA', 1994, 'drama', 142, 9.111]\n",
      "['The Godfather', 'USA', 1972, 'drama, crime', 175, 8.73]\n",
      "[\"Schindler's List\", 'USA', 1993, 'drama', 195, 8.818]\n",
      "['The Lord of the Rings: The Return of the King', 'New Zealand', 2003, 'fantasy, adventure, drama', 201, 8.625]\n",
      "['Fight Club', 'USA', 1999, 'thriller, drama, crime', 139, 8.644]\n",
      "['Harakiri', 'Japan', 1962, 'drama, action, history', 133, 8.106]\n",
      "['Good Will Hunting', 'USA', 1997, 'drama, romance', 126, 8.077]\n"
     ]
    }
   ],
   "source": [
    "# essa função imprime tabelas filtradas. Não a modifique\n",
    "def print_movie_info(data):\n",
    "    for movie in data:\n",
    "        print(movie)\n",
    "\n",
    "\n",
    "# defina sua função filter_by_genre() aqui\n",
    "def filter_by_genre(data, genre = 'drama'):\n",
    "    movies_filtered = [] # lista vazia para armazenar o resultado\n",
    "    for movie in data: # iterando sobre as linhas da tabela original\n",
    "        if genre in movie[3]:\n",
    "            movies_filtered.append(movie) # adiciona a linha à lista movie_filtered\n",
    "    return movies_filtered\n",
    "\n",
    "movies_info = [\n",
    "    ['The Shawshank Redemption', 'USA', 1994, 'drama', 142, 9.111],\n",
    "    ['The Godfather', 'USA', 1972, 'drama, crime', 175, 8.730],\n",
    "    ['The Dark Knight', 'USA', 2008, 'fantasy, action, thriller', 152, 8.499],\n",
    "    [\"Schindler's List\", 'USA', 1993, 'drama', 195, 8.818],\n",
    "    ['The Lord of the Rings: The Return of the King', 'New Zealand', 2003, 'fantasy, adventure, drama', 201, 8.625],\n",
    "    ['Pulp Fiction', 'USA', 1994, 'thriller, comedy, crime', 154, 8.619],\n",
    "    ['The Good, the Bad and the Ugly', 'Italy', 1966, 'western', 178, 8.521],\n",
    "    ['Fight Club', 'USA', 1999, 'thriller, drama, crime', 139, 8.644],\n",
    "    ['Harakiri', 'Japan', 1962, 'drama, action, history', 133, 8.106],\n",
    "    ['Good Will Hunting', 'USA', 1997, 'drama, romance', 126, 8.077]\n",
    "]\n",
    "\n",
    "# abaixo, executamos duas funções para obter o resultado. Não as modifique\n",
    "movies_filtered = filter_by_genre(movies_info)\n",
    "print_movie_info(movies_filtered)"
   ]
  },
  {
   "cell_type": "markdown",
   "id": "3f679da9",
   "metadata": {},
   "source": [
    "** 6.3.06 Funções: retorno de valores **"
   ]
  },
  {
   "cell_type": "code",
   "execution_count": 14,
   "id": "e6c23511",
   "metadata": {},
   "outputs": [
    {
     "name": "stdout",
     "output_type": "stream",
     "text": [
      "A omelete está pronta! Ovos usados: 3\n",
      "Como fazer uma omelete sem ovos?\n",
      "A omelete está pronta! Ovos usados: 2\n"
     ]
    }
   ],
   "source": [
    "# Término de uma função\n",
    "\n",
    "def omelet(eggs_number=2):\n",
    "    if eggs_number > 0:\n",
    "        return 'A omelete está pronta! Ovos usados: ' + str(eggs_number)\n",
    "    else:\n",
    "        return 'Como fazer uma omelete sem ovos?'\n",
    "    print('Eu nunca serei impressa :(')\n",
    "\n",
    "\n",
    "print(omelet(3))\n",
    "print(omelet(0))\n",
    "print(omelet())"
   ]
  },
  {
   "cell_type": "code",
   "execution_count": 12,
   "id": "117957d7",
   "metadata": {},
   "outputs": [
    {
     "name": "stdout",
     "output_type": "stream",
     "text": [
      "(6, 10)\n"
     ]
    }
   ],
   "source": [
    "# Múltiplos resultados\n",
    "\n",
    "def area_and_perim(side_1, side_2):\n",
    "    area = side_1 * side_2\n",
    "    perimeter = 2 * (side_1 + side_2)\n",
    "    return area, perimeter\n",
    "\n",
    "print(area_and_perim(3, 2))"
   ]
  },
  {
   "cell_type": "code",
   "execution_count": null,
   "id": "a1003ca8",
   "metadata": {},
   "outputs": [
    {
     "name": "stdout",
     "output_type": "stream",
     "text": [
      "A área do retângulo é 21, o perímetro é 20\n"
     ]
    }
   ],
   "source": [
    "# agora atribuímos o resultado da função às variáveis globais rec_area e rec_perimeter\n",
    "\n",
    "def find_area_and_perim(side1, side2):\n",
    "    area = side1 * side2\n",
    "    perimeter = 2 * (side1 + side2)\n",
    "    return area, perimeter\n",
    "\n",
    "# desagrupa o resultado da função\n",
    "rec_area, rec_perimeter = (find_area_and_perim(7, 3))\n",
    "\n",
    "print(f'A área do retângulo é {rec_area}, o perímetro é {rec_perimeter}')"
   ]
  },
  {
   "cell_type": "code",
   "execution_count": null,
   "id": "ec1abd5d",
   "metadata": {},
   "outputs": [],
   "source": []
  }
 ],
 "metadata": {
  "kernelspec": {
   "display_name": "base",
   "language": "python",
   "name": "python3"
  },
  "language_info": {
   "codemirror_mode": {
    "name": "ipython",
    "version": 3
   },
   "file_extension": ".py",
   "mimetype": "text/x-python",
   "name": "python",
   "nbconvert_exporter": "python",
   "pygments_lexer": "ipython3",
   "version": "3.12.7"
  }
 },
 "nbformat": 4,
 "nbformat_minor": 5
}
