{
 "cells": [
  {
   "cell_type": "code",
   "execution_count": 1,
   "id": "2ac87380",
   "metadata": {},
   "outputs": [
    {
     "name": "stdout",
     "output_type": "stream",
     "text": [
      "761.0999999999999\n"
     ]
    }
   ],
   "source": [
    "df = {\n",
    "    'American Express': 93.23,\n",
    "    'Boeing': 178.44,\n",
    "    'Coca-Cola': 45.15,\n",
    "    'Walt Disney': 119.34,\n",
    "    'Nike': 97.99,\n",
    "    'JPMorgan':96.27,\n",
    "    'Walmart': 130.68 \n",
    "}\n",
    "\n",
    "total_value = 0\n",
    "\n",
    "for key, value in df.items():\n",
    "    total_value += value\n",
    "print(total_value)\n",
    "#print(total_value)"
   ]
  },
  {
   "cell_type": "code",
   "execution_count": 2,
   "id": "24650f70",
   "metadata": {},
   "outputs": [
    {
     "name": "stdout",
     "output_type": "stream",
     "text": [
      "Rota 72 partidas as 8:00\n",
      "Rota 72 partidas as 12:00\n",
      "Rota 72 partidas as 17:30\n",
      "Rota 26 partidas as 9:30\n",
      "Rota 26 partidas as 15:00\n",
      "Rota 17 partidas as 7:30\n",
      "Rota 17 partidas as 12:30\n",
      "Rota 17 partidas as 15:30\n",
      "primeiro horario da rora 72 é as 8:00\n",
      "primeiro horario da rora 26 é as 9:30\n",
      "primeiro horario da rora 17 é as 7:30\n"
     ]
    }
   ],
   "source": [
    "bus = {\n",
    "    '72': ['8:00', '12:00', '17:30'],\n",
    "    '26': ['9:30', '15:00'],\n",
    "    '17': ['7:30', '12:30', '15:30']\n",
    "}\n",
    "\n",
    "# itere sobre as chaves e os valores do dicionário\n",
    "for rota, horarios in bus.items():\n",
    "    for hora in horarios:\n",
    "        print(f'Rota {rota} partidas as {hora}')\n",
    "\n",
    "for rota, horarios in bus.items():\n",
    "    prim_horario = horarios[0]\n",
    "    print(f'primeiro horario da rora {rota} é as {prim_horario}')"
   ]
  },
  {
   "cell_type": "code",
   "execution_count": 3,
   "id": "02ebccd5",
   "metadata": {},
   "outputs": [
    {
     "name": "stdout",
     "output_type": "stream",
     "text": [
      "O horário da primeira partida do ônibus #72 é 8:00\n",
      "O horário da primeira partida do ônibus #26 é 9:30\n",
      "O horário da primeira partida do ônibus #17 é 7:30\n"
     ]
    }
   ],
   "source": [
    "bus_schedule = {\n",
    "    '72': ['8:00', '12:00', '17:30'],\n",
    "    '26': ['9:30', '15:00'],\n",
    "    '17': ['7:30', '12:30', '15:30']\n",
    "}\n",
    "\n",
    "for route, times in bus_schedule.items():\n",
    "    earliest_time = times[0]\n",
    "    print(f'O horário da primeira partida do ônibus #{route} é {earliest_time}')"
   ]
  },
  {
   "cell_type": "code",
   "execution_count": 4,
   "id": "f21402d3",
   "metadata": {},
   "outputs": [
    {
     "name": "stdout",
     "output_type": "stream",
     "text": [
      "2008\n"
     ]
    }
   ],
   "source": [
    "movies = [\n",
    "    ['The Shawshank Redemption', 'USA', 'drama', 1994, 142, 9.111],\n",
    "    ['The Godfather', 'USA', 'drama, crime', 1972, 175, 8.730],\n",
    "    ['The Dark Knight', 'USA', 'fantasy, action, thriller', 2008, 152, 8.499]\n",
    "]\n",
    "\n",
    "print(movies[2][3])"
   ]
  },
  {
   "cell_type": "code",
   "execution_count": 5,
   "id": "042772e7",
   "metadata": {},
   "outputs": [
    {
     "name": "stdout",
     "output_type": "stream",
     "text": [
      "The Shawshank Redemption\n"
     ]
    }
   ],
   "source": [
    "movies_table = [\n",
    "    {'movie_name':'The Shawshank Redemption', 'country':'USA', 'genre':'drama', 'year':1994, 'duration':142, 'rating':9.111},\n",
    "    {'movie_name':'The Godfather', 'country':'USA', 'genre':'drama, crime', 'year':1972, 'duration':175, 'rating':8.730},\n",
    "    {'movie_name':'The Dark Knight', 'country':'USA', 'genre':'fantasy, action, thriller', 'year':2008, 'duration':152, 'rating':8.499}\n",
    "]\n",
    "\n",
    "# agora acesse a coluna pelo nome:\n",
    "print(movies_table[0]['movie_name'])"
   ]
  },
  {
   "cell_type": "code",
   "execution_count": 6,
   "id": "ec9705c7",
   "metadata": {},
   "outputs": [
    {
     "name": "stdout",
     "output_type": "stream",
     "text": [
      "36\n"
     ]
    }
   ],
   "source": [
    "order = [\n",
    "    {\n",
    "        'item': 'Margherita pizza',\n",
    "        'category': 'pizza',\n",
    "        'quantity': 2,\n",
    "        'price': 9\n",
    "    },\n",
    "    {\n",
    "        'item': 'Ham pizza',\n",
    "        'category': 'pizza',\n",
    "        'quantity': 1,\n",
    "        'price': 12\n",
    "    },\n",
    "    {\n",
    "        'item': 'Pepsi 1 l',\n",
    "        'category': 'beverages',\n",
    "        'quantity': 3,\n",
    "        'price': 2\n",
    "    }\n",
    "]\n",
    "\n",
    "# variável para o preço total do pedido\n",
    "total_price = 0 \n",
    "\n",
    "# itera sobre cada dicionário da lista\n",
    "for item in order: \n",
    "# na variável, soma o preço do item multiplicado pela quantidade\n",
    "    total_price += item['price'] * item['quantity']\n",
    "\n",
    "print(total_price)"
   ]
  },
  {
   "cell_type": "code",
   "execution_count": 7,
   "id": "4262527e",
   "metadata": {},
   "outputs": [
    {
     "name": "stdout",
     "output_type": "stream",
     "text": [
      "[\"Schindler's List\", 'USA', 1993, 'drama', 195, 8.818]\n",
      "['The Lord of the Rings: The Return of the King', 'New Zealand', 2003, 'fantasy, adventure, drama', 201, 8.625]\n"
     ]
    }
   ],
   "source": [
    "movies_info = [\n",
    "    ['The Shawshank Redemption', 'USA', 1994, 'drama', 142, 9.111],\n",
    "    ['The Godfather', 'USA', 1972, 'drama, crime', 175, 8.730],\n",
    "    ['The Dark Knight', 'USA', 2008, 'fantasy, action, thriller', 152, 8.499],\n",
    "    [\"Schindler's List\", 'USA', 1993, 'drama', 195, 8.818],\n",
    "    ['The Lord of the Rings: The Return of the King', 'New Zealand', 2003, 'fantasy, adventure, drama', 201, 8.625],\n",
    "    ['Pulp Fiction', 'USA', 1994, 'thriller, comedy, crime', 154, 8.619],\n",
    "    ['The Good, the Bad and the Ugly', 'Italy', 1966, 'western', 178, 8.521],\n",
    "    ['Fight Club', 'USA', 1999, 'thriller, drama, crime', 139, 8.644],\n",
    "    ['Harakiri', 'Japan', 1962, 'drama, action, history', 133, 8.106],\n",
    "    ['Good Will Hunting', 'USA', 1997, 'drama, romance', 126, 8.077]\n",
    "]\n",
    "\n",
    "movies_filtered = [] # lista vazia para armazenar o resultado\n",
    "\n",
    "for movie in movies_info: # iterando sobre as linhas da tabela original\n",
    "    if movie[4] > 180: # se um filme dura mais do que 180 min\n",
    "        movies_filtered.append(movie) # adiciona a linha à lista movie_filtered\n",
    "\n",
    "for movie in movies_filtered: # imprimindo o conteúdo da lista movies_filtered\n",
    "    print(movie)"
   ]
  },
  {
   "cell_type": "code",
   "execution_count": 8,
   "id": "3fd723d3",
   "metadata": {},
   "outputs": [
    {
     "name": "stdout",
     "output_type": "stream",
     "text": [
      "[{'item': 'Margherita pizza', 'category': 'pizza', 'quantity': 2, 'price': 9}, {'item': 'Ham pizza', 'category': 'pizza', 'quantity': 1, 'price': 12}]\n"
     ]
    }
   ],
   "source": [
    "order = [\n",
    "    {\n",
    "        'item': 'Margherita pizza',\n",
    "        'category': 'pizza',\n",
    "        'quantity': 2,\n",
    "        'price': 9\n",
    "    },\n",
    "    {\n",
    "        'item': 'Ham pizza',\n",
    "        'category': 'pizza',\n",
    "        'quantity': 1,\n",
    "        'price': 12\n",
    "    },\n",
    "    {\n",
    "        'item': 'Pepsi 1 l',\n",
    "        'category': 'beverages',\n",
    "        'quantity': 3,\n",
    "        'price': 2\n",
    "    }\n",
    "]\n",
    "\n",
    "# variável para armazenar o resultado\n",
    "filtered_order = [] \n",
    "\n",
    "for item in order: # itera sobre cada dicionário da lista\n",
    "\tif item['category'] == 'pizza': # se a categoria for pizza...\n",
    "\t\tfiltered_order.append(item) # adiciona o dicionário à lista filtered_order\n",
    "\n",
    "# imprime a lista de dicionários filtrada\n",
    "print(filtered_order) "
   ]
  },
  {
   "cell_type": "code",
   "execution_count": null,
   "id": "866d03b3",
   "metadata": {},
   "outputs": [],
   "source": []
  },
  {
   "cell_type": "markdown",
   "id": "f2873bd5",
   "metadata": {},
   "source": [
    "Vamos voltar para o exemplo do dicionário order. Encontre o preço total para todas as pizzas em order e o imprima. Use a mesma abordagem que usamos nos exemplos desta lição"
   ]
  },
  {
   "cell_type": "code",
   "execution_count": 9,
   "id": "a0ada901",
   "metadata": {},
   "outputs": [
    {
     "name": "stdout",
     "output_type": "stream",
     "text": [
      "30\n"
     ]
    }
   ],
   "source": [
    "order = [\n",
    "    {\n",
    "        'item': 'Margherita pizza',\n",
    "        'category': 'pizza',\n",
    "        'quantity': 2,\n",
    "        'comment': 'Add extra cheese please!',\n",
    "        'price': 9 # preço por item\n",
    "    },\n",
    "    {\n",
    "        'item': 'Ham pizza',\n",
    "        'category': 'pizza',\n",
    "        'quantity': 1,\n",
    "        'comment': '',\n",
    "        'price': 12\n",
    "    },\n",
    "    {\n",
    "        'item': 'Pepsi 1 l',\n",
    "        'category': 'beverages',\n",
    "        'quantity': 3,\n",
    "        'comment': '',\n",
    "        'price': 2\n",
    "    },\n",
    "    {\n",
    "        'item': 'Apple juice 0.5 l',\n",
    "        'category': 'beverages',\n",
    "        'quantity': 1,\n",
    "        'comment': '',\n",
    "        'price': 1\n",
    "    },\n",
    "    {\n",
    "        'item': 'Croissant with cheese',\n",
    "        'category': 'baked foods',\n",
    "        'quantity': 2,\n",
    "        'comment': '',\n",
    "        'price': 1\n",
    "    }\n",
    "]\n",
    "\n",
    "total_pizza_price = 0\n",
    "\n",
    "for item in order:\n",
    "    if item['category'] == 'pizza':\n",
    "        total_pizza_price += item['price'] * item['quantity']\n",
    "\n",
    "print(total_pizza_price)"
   ]
  },
  {
   "cell_type": "markdown",
   "id": "0bd02d9d",
   "metadata": {},
   "source": [
    "** 6.3.05 Funções: parâmetros e valores padrão"
   ]
  },
  {
   "cell_type": "code",
   "execution_count": 4,
   "id": "24b406f6",
   "metadata": {},
   "outputs": [
    {
     "name": "stdout",
     "output_type": "stream",
     "text": [
      "A omelete está pronta! Ovos usados: 2\n"
     ]
    }
   ],
   "source": [
    "# adiciona um valor padrão ao parâmetro eggs_number\n",
    "def omelet(eggs_number=2):\n",
    "    result = 'A omelete está pronta! Ovos usados: ' + str (eggs_number)\n",
    "    return result\n",
    "\n",
    "print(omelet())"
   ]
  },
  {
   "cell_type": "markdown",
   "id": "8030ac24",
   "metadata": {},
   "source": [
    "Importante!\n",
    "Ao definir uma função, parâmetros opcionais devem ser colocados após os obrigatórios, ou seja, aqueles que não têm valores padrão atribuídos a eles. Caso contrário, você vai obter um erro quando chamar a função."
   ]
  },
  {
   "cell_type": "code",
   "execution_count": 5,
   "id": "c5532922",
   "metadata": {},
   "outputs": [
    {
     "name": "stdout",
     "output_type": "stream",
     "text": [
      "A omelete está pronta! Ovos usados: 2, sem queijo\n"
     ]
    }
   ],
   "source": [
    "# adiciona um valor padrão ao parâmetro eggs_number\n",
    "def omelet(cheese, eggs_number=2):\n",
    "    result = 'A omelete está pronta! Ovos usados: ' + str(eggs_number)\n",
    "    if cheese == True:\n",
    "        result = result + ', com queijo'\n",
    "    else:\n",
    "        result = result + ', sem queijo'\n",
    "    return result\n",
    "\n",
    "print(omelet(False))"
   ]
  },
  {
   "cell_type": "code",
   "execution_count": 6,
   "id": "8f834612",
   "metadata": {},
   "outputs": [
    {
     "name": "stdout",
     "output_type": "stream",
     "text": [
      "['The Shawshank Redemption', 'USA', 1994, 'drama', 142, 9.111]\n",
      "['The Godfather', 'USA', 1972, 'drama, crime', 175, 8.73]\n",
      "[\"Schindler's List\", 'USA', 1993, 'drama', 195, 8.818]\n",
      "['The Lord of the Rings: The Return of the King', 'New Zealand', 2003, 'fantasy, adventure, drama', 201, 8.625]\n",
      "['Fight Club', 'USA', 1999, 'thriller, drama, crime', 139, 8.644]\n",
      "['Harakiri', 'Japan', 1962, 'drama, action, history', 133, 8.106]\n",
      "['Good Will Hunting', 'USA', 1997, 'drama, romance', 126, 8.077]\n"
     ]
    }
   ],
   "source": [
    "# essa função imprime tabelas filtradas. Não a modifique\n",
    "def print_movie_info(data):\n",
    "    for movie in data:\n",
    "        print(movie)\n",
    "\n",
    "\n",
    "# defina sua função filter_by_genre() aqui\n",
    "def filter_by_genre(data, genre = 'drama'):\n",
    "    movies_filtered = [] # lista vazia para armazenar o resultado\n",
    "    for movie in data: # iterando sobre as linhas da tabela original\n",
    "        if genre in movie[3]:\n",
    "            movies_filtered.append(movie) # adiciona a linha à lista movie_filtered\n",
    "    return movies_filtered\n",
    "\n",
    "movies_info = [\n",
    "    ['The Shawshank Redemption', 'USA', 1994, 'drama', 142, 9.111],\n",
    "    ['The Godfather', 'USA', 1972, 'drama, crime', 175, 8.730],\n",
    "    ['The Dark Knight', 'USA', 2008, 'fantasy, action, thriller', 152, 8.499],\n",
    "    [\"Schindler's List\", 'USA', 1993, 'drama', 195, 8.818],\n",
    "    ['The Lord of the Rings: The Return of the King', 'New Zealand', 2003, 'fantasy, adventure, drama', 201, 8.625],\n",
    "    ['Pulp Fiction', 'USA', 1994, 'thriller, comedy, crime', 154, 8.619],\n",
    "    ['The Good, the Bad and the Ugly', 'Italy', 1966, 'western', 178, 8.521],\n",
    "    ['Fight Club', 'USA', 1999, 'thriller, drama, crime', 139, 8.644],\n",
    "    ['Harakiri', 'Japan', 1962, 'drama, action, history', 133, 8.106],\n",
    "    ['Good Will Hunting', 'USA', 1997, 'drama, romance', 126, 8.077]\n",
    "]\n",
    "\n",
    "# abaixo, executamos duas funções para obter o resultado. Não as modifique\n",
    "movies_filtered = filter_by_genre(movies_info)\n",
    "print_movie_info(movies_filtered)"
   ]
  },
  {
   "cell_type": "markdown",
   "id": "3f679da9",
   "metadata": {},
   "source": [
    "** 6.3.06 Funções: retorno de valores **"
   ]
  },
  {
   "cell_type": "code",
   "execution_count": 14,
   "id": "e6c23511",
   "metadata": {},
   "outputs": [
    {
     "name": "stdout",
     "output_type": "stream",
     "text": [
      "A omelete está pronta! Ovos usados: 3\n",
      "Como fazer uma omelete sem ovos?\n",
      "A omelete está pronta! Ovos usados: 2\n"
     ]
    }
   ],
   "source": [
    "# Término de uma função\n",
    "\n",
    "def omelet(eggs_number=2):\n",
    "    if eggs_number > 0:\n",
    "        return 'A omelete está pronta! Ovos usados: ' + str(eggs_number)\n",
    "    else:\n",
    "        return 'Como fazer uma omelete sem ovos?'\n",
    "    print('Eu nunca serei impressa :(')\n",
    "\n",
    "\n",
    "print(omelet(3))\n",
    "print(omelet(0))\n",
    "print(omelet())"
   ]
  },
  {
   "cell_type": "code",
   "execution_count": 12,
   "id": "117957d7",
   "metadata": {},
   "outputs": [
    {
     "name": "stdout",
     "output_type": "stream",
     "text": [
      "(6, 10)\n"
     ]
    }
   ],
   "source": [
    "# Múltiplos resultados\n",
    "\n",
    "def area_and_perim(side_1, side_2):\n",
    "    area = side_1 * side_2\n",
    "    perimeter = 2 * (side_1 + side_2)\n",
    "    return area, perimeter\n",
    "\n",
    "print(area_and_perim(3, 2))"
   ]
  },
  {
   "cell_type": "code",
   "execution_count": null,
   "id": "a1003ca8",
   "metadata": {},
   "outputs": [
    {
     "name": "stdout",
     "output_type": "stream",
     "text": [
      "A área do retângulo é 21, o perímetro é 20\n"
     ]
    }
   ],
   "source": [
    "# agora atribuímos o resultado da função às variáveis globais rec_area e rec_perimeter\n",
    "\n",
    "def find_area_and_perim(side1, side2):\n",
    "    area = side1 * side2\n",
    "    perimeter = 2 * (side1 + side2)\n",
    "    return area, perimeter\n",
    "\n",
    "# desagrupa o resultado da função\n",
    "rec_area, rec_perimeter = (find_area_and_perim(7, 3))\n",
    "\n",
    "print(f'A área do retângulo é {rec_area}, o perímetro é {rec_perimeter}')"
   ]
  },
  {
   "cell_type": "markdown",
   "id": "99f81873",
   "metadata": {},
   "source": [
    "6.3.7 >Pandas: o objeto Series<\n",
    "\n",
    "Um objeto Series é essencialmente uma coluna de um DataFrame. Por exemplo, quando filtramos um DataFrame e extraímos uma coluna que nos interessa, essa coluna se torna um objeto Series.\n",
    "\n",
    "quando você cria um DataFrame a partir de objetos Series individuais, o nome do objeto Series torna-se o nome da coluna.\n",
    "\n",
    "import pandas as pd\n",
    "\n",
    "df = pd.read_csv('/datasets/music_log_chpt_11.csv')\n",
    "\n",
    "part_df = df['Artist']\n",
    "print(part_df.name)\n",
    ">>> Artist\n",
    "\n",
    "Além do nome, o objeto Series tem determinado tamanho, ou seja, o número total de células. Ele pode ser acessado por meio do atributo size:\n",
    "\n",
    "import pandas as pd\n",
    "\n",
    "df = pd.read_csv('/datasets/music_log_chpt_11.csv')\n",
    "\n",
    "part_df = df['Artist']\n",
    "print(part_df.size)\n",
    "... 67963 (Esse objeto Series contém 67.963 elementos, ou células.)\n",
    "\n",
    "Tipo\tNotação completa\tNotação abreviada\n",
    "Múltiplos elementos consecutivos (fatia)\ttotal_play.loc[5:10] incluindo 10\n",
    "                                                Total_play[5:10] não incluindo 10\n",
    "\n",
    "Todos os elementos até o elemento escolhido\ttotal_play.loc[:3] incluindo 3\t\n",
    "                                                total_play[:3] não incluindo 3"
   ]
  },
  {
   "cell_type": "code",
   "execution_count": null,
   "id": "e5c8bdb6",
   "metadata": {},
   "outputs": [],
   "source": [
    "#Extraia a coluna 'track' do DataFrame original e armazene-a na variável tracks. \n",
    "# Esse será seu objeto Series. \n",
    "# Em seguida, obtenha os primeiros 20 elementos desse objeto Series e \n",
    "# armazene-os na variável top20. Imprima essa variável.\n",
    "\n",
    "import pandas as pd\n",
    "\n",
    "df = pd.read_csv('/datasets/music_log_chpt_11.csv')\n",
    "\n",
    "tracks = df['track'] # escreva seu código aqui\n",
    "top20 = tracks [:20]# escreva seu código aqui\n",
    "\n",
    "print(top20)"
   ]
  },
  {
   "cell_type": "markdown",
   "id": "be7f3af7",
   "metadata": {},
   "source": [
    "Filtragem de um objeto Series\n",
    "\n",
    "A indexação lógica também funciona para um objeto Series e é mais simples que o equivalente do DataFrame, basta uma condição lógica\n",
    "\n",
    "import pandas as pd\n",
    "\n",
    "df = pd.read_csv('/datasets/music_log_chpt_11.csv')\n",
    "\n",
    "total_play = df['total play']\n",
    "lower_20 = total_play < 20\n",
    "\n",
    "print(lower_20)\n",
    "\n",
    "O resultado exibe o índice de cada música no objeto Series com o valor booleano com o valor True – e com o False\n",
    "\n",
    "----------------------------------------------------------------------------------------------\n",
    "*** É interessante que agora podemos usar esse novo objeto Series com valores booleanos para filtrar o DataFrame original. Veja como você pode fazer isso:\n",
    "\n",
    "import pandas as pd\n",
    "\n",
    "df = pd.read_csv('/datasets/music_log_chpt_11.csv')\n",
    "\n",
    "total_play = df['total play']\n",
    "lower_20 = total_play < 20\n",
    "\n",
    "df_lower20_only = df[lower_20]\n",
    "\n",
    "print(df_lower20_only)\n",
    "\n",
    "O resultado é uma tabela filtrada contendo apenas as linhas com valores na coluna 'total play' inferiores a 20.\n",
    "\n",
    "              user_id  total play                                  Artist   \n",
    "3      EF15C7BA    8.966000                                     NaN  \\\n",
    "5      4166D680    3.007000  Henry Hall & His Gleneagles Hotel Band   \n",
    "6       F4F5677    0.100000                                     NaN   \n",
    "8      A5E0D927    3.161000                   Andrew Paul Woodworth   \n",
    "10     D3DD8D00    8.836000                          Steve Campbell   \n",
    "...         ...         ...                                     ...   \n",
    "67951  A6E13637    1.318000                             Julien Mier   \n",
    "67953  A06381D8    2.502000                             Flip Grater   \n",
    "67956  816FBC10    2.000000                                   89ers   \n",
    "67961  DB0038A8   11.529112                            Less Chapell   \n",
    "67962  FE8684F6    0.100000                                     NaN   \n",
    "\n",
    "----------------------------------------------------------------------------------------------\n",
    "\n",
    "Como alternativa, você pode filtrar o objeto Series e obter apenas os valores que atendem aos seus critérios. Por exemplo, se temos o objeto Series com valores booleanos, podemos usar esse objeto para filtrar o objeto Series total_play:\n",
    "\n",
    "import pandas as pd\n",
    "\n",
    "df = pd.read_csv('/datasets/music_log_chpt_11.csv')\n",
    "\n",
    "total_play = df['total play']\n",
    "lower_20 = total_play < 20\n",
    "\n",
    "series_lower20_only = total_play[lower_20]\n",
    "\n",
    "print(series_lower20_only)\n",
    "\n",
    "3         8.966000\n",
    "5         3.007000\n",
    "6         0.100000\n",
    "8         3.161000\n",
    "10        8.836000\n",
    "           ...    \n",
    "67951     1.318000\n",
    "67953     2.502000\n",
    "67956     2.000000\n",
    "67961    11.529112\n",
    "67962     0.100000\n",
    "Name: total play, Length: 33868, dtype: float64\n",
    "----------------------------------------------------------------------------------------------\n"
   ]
  },
  {
   "cell_type": "markdown",
   "id": "4872485c",
   "metadata": {},
   "source": [
    "Em primeiro lugar, extraia a coluna 'genre' do DataFrame original e armazena-a na variável genre. \n",
    "\n",
    "Em seguida, com base no exemplo acima, verifique se os valores no objeto Series são iguais a 'pop'. Armazene o resultado dessa verificação na variável pop_genre_check. \n",
    "\n",
    "Por fim, use pop_genre_check para filtrar o DataFrame df original para incluir apenas músicas pop. Armazene esse DataFrame filtrado na variável pop_df e o imprima.\n",
    "\n",
    "*\n",
    "import pandas as pd\n",
    "\n",
    "df = pd.read_csv('/datasets/music_log_chpt_11.csv')\n",
    "\n",
    "genre = df['genre'] # escreva seu código aqui\n",
    "pop_genre_check = genre == 'pop' # escreva seu código aqui\n",
    "pop_df = df[pop_genre_check]# escreva seu código aqui\n",
    "\n",
    "print(pop_df)\n",
    "*\n",
    "       user_id  total play  ... genre                                         track\n",
    "0      BF6EA5AF   92.851388  ...   pop                                        Musica\n",
    "4      82F52E69  193.776327  ...   pop                        Me And My Broken Heart\n",
    "8      A5E0D927    3.161000  ...   pop          The Name of This Next Song Is Called\n",
    "11     596A4517    0.000000  ...   pop                                       Bye Bye\n",
    "13     79D2876C    2.000000  ...   pop                            Räuber und Gendarm\n",
    "17     AEAEF451   15.000000  ...   pop                                   General Zod\n",
    "33     65608E7C    0.100000  ...   pop                         Don't Dream It's Over\n",
    "41     2F4F0630    0.100000  ...   pop                                   Cool Breeze\n",
    "48     EE908C06   84.519176  ...   pop                              Eye Of The Tiger\n",
    "55     D52D00EA    8.443000  ...   pop                                Люби меня люби\n",
    "59     A40236D7   43.000000  ...   pop                                  Bitches Tune\n",
    "78     20B8C4FB  211.565714  ...   pop                            Rakkautta ja rahaa\n",
    "81     FA279DD2    1.523753  ...   pop                            Up Where We Belong\n",
    "85     F6939D17  187.000000  ...   pop                Cold (Reprise Maroon 5 Future)\n",
    "86     AC0AF747    0.100000  ...   pop                                      Slow Day\n",
    "96     7F38A6F8   50.040000  ...   pop                      When It’s Done It’s Done\n",
    "97     510D9BEE  213.004754  ...   pop                        Anna Mun Jäädä Sun Luo\n",
    "98     A95CC18E   31.696000  ...   pop                                       Gravity\n",
    "101    11B83119   48.000000  ...   pop                                    All I Want\n",
    "103    14B73B59   31.323301  ...   pop                                  Se te ne vai\n",
    "111    9C533CB1  248.450612  ...   pop                   Lullaby to an Anxious Child\n",
    "112    748BE5A3    0.100000  ...   pop                                   Sessiz Gemi\n",
    "114    E3B367E9    2.000000  ...   pop                                    110% Intro\n",
    "122    66177A34    0.100000  ...   pop                                   Butterflies\n",
    "125     1451927  162.075000  ...   pop                                 Toda la Noche\n",
    "137    FB7E4FD8  164.931000  ...   pop                                        Famous\n",
    "139    8C1DC60F    0.000000  ...   pop  If You Should Ever Go (Castles Turn to Sand)\n",
    "144    D5EDEFF9    2.436113  ...   pop                        Første gangen om igjen\n",
    "148    24C2E9D6  213.786083  ...   pop                                    D.i.s.c.o.\n",
    "164    F14E5BD3   46.220238  ...   pop                                     Рисунками\n",
    "...         ...         ...  ...   ...                                           ...\n",
    "67702  CAB52D09  250.723265  ...   pop                         I Want What She's Got\n",
    "67712  9E6700D3  184.000000  ...   pop     Näin on käynyt sorry - Ciao Bambino Sorry\n",
    "67728  322B4139   85.000000  ...   pop                               Bird In My Hand\n",
    "67743  2135677B    2.538000  ...   pop                                       Unknown\n",
    "67755  728D3E60    1.661000  ...   pop                            Strings For Yasmin\n",
    "67756  9B782CAB  184.436000  ...   pop                                          Time\n"
   ]
  },
  {
   "cell_type": "markdown",
   "id": "2974c3bf",
   "metadata": {},
   "source": [
    "6.3.8   Pandas: estatística descritiva\n",
    "\n",
    "No final desta lição, você saberá usar quatro métricas simples para entender as propriedades básicas dos dados: os valores máximo e mínimo, a mediana e a média. Saber usar essas métricas vai permitir ter uma boa noção da estrutura de seus dados.\n"
   ]
  },
  {
   "cell_type": "markdown",
   "id": "756dbb04",
   "metadata": {},
   "source": [
    "Valor máximo ..... use o método max()\n",
    "\n",
    "import pandas as pd\n",
    "\n",
    "df = pd.read_csv('/datasets/music_log_processed.csv')\n",
    "\n",
    "print(df['total_play'].max())\n",
    ">>> 8638.735999999999\n",
    "\n",
    "** Mas que musica é essa ??? \n",
    "\n",
    "print(df[df['total_play'] == df['total_play'].max()])\n",
    ">>>    user_id  total_play   artist    genre    track\n",
    "8895   FE76AC63  8638.736    no_info  no_info  no_info\n",
    "\n",
    "\n"
   ]
  },
  {
   "cell_type": "markdown",
   "id": "967f7e11",
   "metadata": {},
   "source": [
    "#Tarefa 1\n",
    "# Agora, vamos conduzir uma análise parecida, mas apenas para músicas pop. No código abaixo, filtramos o DataFrame original para extrair todas as linhas correspondentes às músicas pop. Em seguida, como fizemos na lição, eliminamos todas as linhas em que a coluna 'total_play' é inferior a 30 segundos porque consideramos essas músicas como puladas.\n",
    "\n",
    "Vamos verificar a reprodução mais longa de uma música pop. Calcule-a e imprima o resultado.\n",
    "\n",
    "import pandas as pd\n",
    "\n",
    "df = pd.read_csv('/datasets/music_log_processed.csv')\n",
    "\n",
    "pop_tracks = df[df['genre'] == 'pop']\n",
    "pop_tracks = pop_tracks[pop_tracks['total_play'] > 30]\n",
    "\n",
    "max_dur = pop_tracks['total_play'].max()\n",
    " \n",
    "print(max_dur)\n",
    "\n",
    ">>> 1158.0280450000016"
   ]
  },
  {
   "cell_type": "markdown",
   "id": "7dda41b2",
   "metadata": {},
   "source": [
    "# Valor mínimo  método min()\n",
    "\n",
    "df_drop_skip = df[df['total_play'] > 30]\n",
    "\n",
    "print(df_drop_skip['total_play'].min())\n",
    ">>> 30.000497\n",
    "\n",
    "# Agora vamos obter os nomes das músicas que os usuários pularam rapidamente. Vamos aplicar a indexação lógica, assim como fizemos quando estávamos procurando o valor máximo:\n",
    "\n",
    "print(df_drop_skip[df_drop_skip['total_play'] == df_drop_skip['total_play'].min()])\n",
    "\n",
    ">>>               user_id  total_play       artist genre     track\n",
    "56351            95B68844  30.000497        Bob Baldwin      jazz  Can You Feel It? (Interlude)"
   ]
  },
  {
   "cell_type": "markdown",
   "id": "871627cd",
   "metadata": {},
   "source": [
    "# Mediana  .... método median()\n",
    "Assim como os métodos min() e max(), median()pode ser aplicado à tabela inteira ou a dados agrupados.\n",
    "\n",
    "print(df['total_play'].median())\n",
    ">>> 21.337\n",
    "\n",
    "df_drop_skip = df[df['total_play'] > 30]\n",
    "print(df_drop_skip['total_play'].median())\n",
    ">>> 201.96"
   ]
  },
  {
   "cell_type": "markdown",
   "id": "5603226c",
   "metadata": {},
   "source": [
    "# Média     .... método mean()\n",
    "print(df_drop_skip['total_play'].mean())\n",
    ">>> 206.13\n",
    "\n"
   ]
  },
  {
   "cell_type": "markdown",
   "id": "7dcead66",
   "metadata": {},
   "source": [
    "**É um valor bem próximo da mediana! Se a média fosse muito maior ou muito menor, isso poderia indicar a presença de valores atípicos. Outliers (valores atípicos)**"
   ]
  },
  {
   "cell_type": "markdown",
   "id": "47b278e5",
   "metadata": {},
   "source": [
    "Tarefas\n",
    "# Tarefa 2\n",
    "\n",
    "Já encontramos o valor máximo na tarefa anterior. Seu objetivo agora é calcular os valores da mediana e da média para a coluna 'total_play' e imprimi-los.\n",
    "\n",
    "import pandas as pd\n",
    "\n",
    "df = pd.read_csv('/datasets/music_log_processed.csv')\n",
    "\n",
    "pop_tracks = df[df['genre'] == 'pop']\n",
    "pop_tracks = pop_tracks[pop_tracks['total_play'] > 30]\n",
    "\n",
    "pop_mean = pop_tracks['total_play'].mean() # escreva seu código aqui\n",
    "pop_median = pop_tracks['total_play'].median()  # escreva seu código aqui\n",
    " \n",
    "print(pop_mean)\n",
    "print(pop_median)\n",
    "\n",
    "Resultado\n",
    "186.25846123970464\n",
    "197.996\n",
    "--------------------------------------------------------------------------------------"
   ]
  }
 ],
 "metadata": {
  "kernelspec": {
   "display_name": "base",
   "language": "python",
   "name": "python3"
  },
  "language_info": {
   "codemirror_mode": {
    "name": "ipython",
    "version": 3
   },
   "file_extension": ".py",
   "mimetype": "text/x-python",
   "name": "python",
   "nbconvert_exporter": "python",
   "pygments_lexer": "ipython3",
   "version": "3.12.7"
  }
 },
 "nbformat": 4,
 "nbformat_minor": 5
}
